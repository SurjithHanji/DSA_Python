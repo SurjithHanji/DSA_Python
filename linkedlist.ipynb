{
 "cells": [
  {
   "cell_type": "code",
   "execution_count": 3,
   "id": "b62a97e6-adde-400b-a396-fd116ab789b0",
   "metadata": {},
   "outputs": [],
   "source": [
    "class Node:\n",
    "    def __init__(self,value):\n",
    "        self.data=value\n",
    "        self.next=None\n",
    "    "
   ]
  },
  {
   "cell_type": "markdown",
   "id": "e7ee0f62-19ee-42ef-9c4b-c03fcb5bdda2",
   "metadata": {},
   "source": [
    "**creating LinkedList**"
   ]
  },
  {
   "cell_type": "markdown",
   "id": "0a4c35cc-6e76-4d35-b594-49a4e2279e10",
   "metadata": {},
   "source": [
    "a=Node(1)"
   ]
  },
  {
   "cell_type": "code",
   "execution_count": 6,
   "id": "038e0769-d8e3-4706-bbe6-b9d775b9cd8e",
   "metadata": {},
   "outputs": [
    {
     "name": "stdout",
     "output_type": "stream",
     "text": [
      "<__main__.Node object at 0x000002110F746780>\n"
     ]
    }
   ],
   "source": [
    "print(a)"
   ]
  },
  {
   "cell_type": "code",
   "execution_count": 7,
   "id": "d9db3d81-a9ee-4fd8-9998-d44ffba62c04",
   "metadata": {},
   "outputs": [
    {
     "name": "stdout",
     "output_type": "stream",
     "text": [
      "1\n"
     ]
    }
   ],
   "source": [
    "print(a.data)"
   ]
  },
  {
   "cell_type": "code",
   "execution_count": 8,
   "id": "39a6cce4-3575-4326-99d5-eacfde9d341c",
   "metadata": {},
   "outputs": [
    {
     "name": "stdout",
     "output_type": "stream",
     "text": [
      "None\n"
     ]
    }
   ],
   "source": [
    "print(a.next)"
   ]
  },
  {
   "cell_type": "code",
   "execution_count": 9,
   "id": "e946f23a-8422-480e-9d47-b1208f6e1cf8",
   "metadata": {},
   "outputs": [],
   "source": [
    "b=Node(2)\n",
    "c=Node(3)"
   ]
  },
  {
   "cell_type": "code",
   "execution_count": 10,
   "id": "f4542a46-9c49-4492-8a53-ac0ed3981b65",
   "metadata": {},
   "outputs": [
    {
     "name": "stdout",
     "output_type": "stream",
     "text": [
      "2\n",
      "3\n"
     ]
    }
   ],
   "source": [
    "print(b.data)\n",
    "print(c.data)"
   ]
  },
  {
   "cell_type": "markdown",
   "id": "47215404-9951-4000-be33-a01fdc574b75",
   "metadata": {},
   "source": [
    "**#To build connection**"
   ]
  },
  {
   "cell_type": "code",
   "execution_count": 15,
   "id": "2733b4cc-7425-4c60-aa83-bb2e5f29e308",
   "metadata": {},
   "outputs": [
    {
     "data": {
      "text/plain": [
       "2272296986496"
      ]
     },
     "execution_count": 15,
     "metadata": {},
     "output_type": "execute_result"
    }
   ],
   "source": [
    "id(a)"
   ]
  },
  {
   "cell_type": "code",
   "execution_count": 16,
   "id": "bbd5284d-43c9-4432-a94a-a96802be8f82",
   "metadata": {},
   "outputs": [
    {
     "data": {
      "text/plain": [
       "2272297266032"
      ]
     },
     "execution_count": 16,
     "metadata": {},
     "output_type": "execute_result"
    }
   ],
   "source": [
    "id(b)\n"
   ]
  },
  {
   "cell_type": "code",
   "execution_count": 17,
   "id": "4a1879ab-daaa-4ffe-8df7-695680e817ad",
   "metadata": {},
   "outputs": [
    {
     "data": {
      "text/plain": [
       "2272297267952"
      ]
     },
     "execution_count": 17,
     "metadata": {},
     "output_type": "execute_result"
    }
   ],
   "source": [
    "id(c)"
   ]
  },
  {
   "cell_type": "code",
   "execution_count": 18,
   "id": "dcf02ef9-2e23-4f11-975f-2c3792676e1e",
   "metadata": {},
   "outputs": [],
   "source": [
    "a.next=b\n",
    "b.next=c"
   ]
  },
  {
   "cell_type": "code",
   "execution_count": 19,
   "id": "56625b66-4c75-443b-805e-f23dd7d9a886",
   "metadata": {},
   "outputs": [
    {
     "name": "stdout",
     "output_type": "stream",
     "text": [
      "<__main__.Node object at 0x000002110F78AB70>\n"
     ]
    }
   ],
   "source": [
    "print(a.next)"
   ]
  },
  {
   "cell_type": "code",
   "execution_count": 20,
   "id": "026b598d-ff8d-4644-87bd-20859bf4ebf1",
   "metadata": {},
   "outputs": [
    {
     "name": "stdout",
     "output_type": "stream",
     "text": [
      "<__main__.Node object at 0x000002110F78B2F0>\n"
     ]
    }
   ],
   "source": [
    "print(b.next)"
   ]
  },
  {
   "cell_type": "code",
   "execution_count": 21,
   "id": "913d93ac-d742-4512-baf1-2df6184f7cd6",
   "metadata": {},
   "outputs": [
    {
     "name": "stdout",
     "output_type": "stream",
     "text": [
      "None\n"
     ]
    }
   ],
   "source": [
    "print(c.next)"
   ]
  },
  {
   "cell_type": "code",
   "execution_count": 36,
   "id": "f6e8c7ff-0630-4fd8-b55a-9ff7a6236e6d",
   "metadata": {},
   "outputs": [],
   "source": [
    "class linkedlist:\n",
    "    def __init__(self):\n",
    "        #empty linked list\n",
    "        self.head=None\n",
    "        self.n=0  #count of nodes\n",
    "        \n",
    "    def __len__(self):\n",
    "        return self.n\n",
    "\n",
    "    # Insert From Head\n",
    "    def insert_head(self,value):\n",
    "        new_node=Node(value)\n",
    "\n",
    "        #create connection\n",
    "        new_node.next=self.head\n",
    "        self.head=new_node\n",
    "\n",
    "        #increment\n",
    "        self.n=self.n+1 \n",
    "        "
   ]
  },
  {
   "cell_type": "code",
   "execution_count": 37,
   "id": "f2691056-9166-4831-bebf-8760fd977f81",
   "metadata": {},
   "outputs": [],
   "source": [
    "L=linkedlist()"
   ]
  },
  {
   "cell_type": "code",
   "execution_count": 33,
   "id": "cec934fa-59fa-434c-b771-6d8e96043de4",
   "metadata": {},
   "outputs": [
    {
     "name": "stdout",
     "output_type": "stream",
     "text": [
      "<__main__.linkedlist object at 0x000002110F78BAA0>\n"
     ]
    }
   ],
   "source": [
    "print(L)"
   ]
  },
  {
   "cell_type": "markdown",
   "id": "bb09e30c-3892-4090-badf-7d01b927d826",
   "metadata": {},
   "source": [
    "**Length Of linkedlist**"
   ]
  },
  {
   "cell_type": "code",
   "execution_count": 34,
   "id": "5f51600c-1bc8-48e2-9bbe-01abe8da45bb",
   "metadata": {},
   "outputs": [
    {
     "data": {
      "text/plain": [
       "0"
      ]
     },
     "execution_count": 34,
     "metadata": {},
     "output_type": "execute_result"
    }
   ],
   "source": [
    "len(L)"
   ]
  },
  {
   "cell_type": "markdown",
   "id": "17673705-6588-4160-b1dc-7daf08552591",
   "metadata": {},
   "source": [
    "**Insert**"
   ]
  },
  {
   "cell_type": "markdown",
   "id": "a93d7b07-8684-4fdc-adf7-ff443859ac4d",
   "metadata": {},
   "source": [
    "**# Insert From head**"
   ]
  },
  {
   "cell_type": "code",
   "execution_count": 38,
   "id": "f50ed20c-1b32-4868-976d-e480d97c8a63",
   "metadata": {},
   "outputs": [],
   "source": [
    "L.insert_head(1)\n",
    "L.insert_head(2)\n",
    "L.insert_head(3)"
   ]
  },
  {
   "cell_type": "code",
   "execution_count": 39,
   "id": "84fdfb6a-eef5-4b0a-85ff-79394a87116b",
   "metadata": {},
   "outputs": [
    {
     "data": {
      "text/plain": [
       "3"
      ]
     },
     "execution_count": 39,
     "metadata": {},
     "output_type": "execute_result"
    }
   ],
   "source": [
    "len(L)"
   ]
  },
  {
   "cell_type": "code",
   "execution_count": null,
   "id": "2424c301-07ab-4f7b-a58d-a585a58e4f5a",
   "metadata": {},
   "outputs": [],
   "source": []
  }
 ],
 "metadata": {
  "kernelspec": {
   "display_name": "Python 3 (ipykernel)",
   "language": "python",
   "name": "python3"
  },
  "language_info": {
   "codemirror_mode": {
    "name": "ipython",
    "version": 3
   },
   "file_extension": ".py",
   "mimetype": "text/x-python",
   "name": "python",
   "nbconvert_exporter": "python",
   "pygments_lexer": "ipython3",
   "version": "3.12.7"
  }
 },
 "nbformat": 4,
 "nbformat_minor": 5
}
