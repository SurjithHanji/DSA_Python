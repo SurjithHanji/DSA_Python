{
 "cells": [
  {
   "cell_type": "code",
   "execution_count": 1,
   "id": "31de34b9-5537-4d98-a26d-5c89290e4acf",
   "metadata": {},
   "outputs": [],
   "source": [
    "import sys"
   ]
  },
  {
   "cell_type": "code",
   "execution_count": 13,
   "id": "7f5a67ae-6e50-4933-8abe-5b60b4926f15",
   "metadata": {},
   "outputs": [
    {
     "name": "stdout",
     "output_type": "stream",
     "text": [
      "0 56\n",
      "1 88\n",
      "2 88\n",
      "3 88\n",
      "4 88\n",
      "5 120\n",
      "6 120\n",
      "7 120\n",
      "8 120\n",
      "9 184\n",
      "10 184\n",
      "11 184\n",
      "12 184\n",
      "13 184\n",
      "14 184\n",
      "15 184\n",
      "16 184\n",
      "17 248\n",
      "18 248\n",
      "19 248\n",
      "20 248\n",
      "21 248\n",
      "22 248\n",
      "23 248\n",
      "24 248\n",
      "25 312\n",
      "26 312\n",
      "27 312\n",
      "28 312\n",
      "29 312\n",
      "30 312\n",
      "31 312\n",
      "32 312\n",
      "33 376\n",
      "34 376\n",
      "35 376\n",
      "36 376\n",
      "37 376\n",
      "38 376\n",
      "39 376\n",
      "40 376\n",
      "41 472\n",
      "42 472\n",
      "43 472\n",
      "44 472\n",
      "45 472\n",
      "46 472\n",
      "47 472\n",
      "48 472\n",
      "49 472\n",
      "50 472\n",
      "51 472\n",
      "52 472\n",
      "53 568\n",
      "54 568\n",
      "55 568\n",
      "56 568\n",
      "57 568\n",
      "58 568\n",
      "59 568\n",
      "60 568\n",
      "61 568\n",
      "62 568\n",
      "63 568\n",
      "64 568\n",
      "65 664\n",
      "66 664\n",
      "67 664\n",
      "68 664\n",
      "69 664\n",
      "70 664\n",
      "71 664\n",
      "72 664\n",
      "73 664\n",
      "74 664\n",
      "75 664\n",
      "76 664\n",
      "77 792\n",
      "78 792\n",
      "79 792\n",
      "80 792\n",
      "81 792\n",
      "82 792\n",
      "83 792\n",
      "84 792\n",
      "85 792\n",
      "86 792\n",
      "87 792\n",
      "88 792\n",
      "89 792\n",
      "90 792\n",
      "91 792\n",
      "92 792\n",
      "93 920\n",
      "94 920\n",
      "95 920\n",
      "96 920\n",
      "97 920\n",
      "98 920\n",
      "99 920\n"
     ]
    }
   ],
   "source": [
    "l=[]\n",
    "for i in range(100):\n",
    "    print(i,sys.getsizeof(l))\n",
    "    l.append(i)"
   ]
  },
  {
   "cell_type": "code",
   "execution_count": 14,
   "id": "7db261ed-eea6-4f1b-832c-025631cf6009",
   "metadata": {},
   "outputs": [],
   "source": [
    "import ctypes"
   ]
  },
  {
   "cell_type": "code",
   "execution_count": 40,
   "id": "6ec7f158-1c3e-43dc-9973-c56fd4bdb50d",
   "metadata": {},
   "outputs": [],
   "source": [
    "import ctypes\n",
    "\n",
    "class mlist:\n",
    "    def __init__(self):\n",
    "        self.size = 1   # maximum capacity\n",
    "        self.n = 0      # current number of elements\n",
    "        self.A = self._make_array(self.size)  # create C-type array\n",
    "\n",
    "    def __len__(self):\n",
    "        return self.n\n",
    "\n",
    "    def append(self,item):\n",
    "        if self.size == self.n:\n",
    "            #resize the array\n",
    "            self.__resize(self.size*2)\n",
    "        #append\n",
    "        self.A[self.n]=item\n",
    "        self.n=self.n+1\n",
    "\n",
    "    def __resize(self,new_capacity):\n",
    "        #create a new array with new capacity\n",
    "        B=self._make_array(new_capacity)\n",
    "        self.size=new_capacity\n",
    "        #copy the content of A to B\n",
    "        for i in range(self.n):\n",
    "            B[i]=self.A[i]\n",
    "        #reassign A\n",
    "        self.A=B \n",
    "\n",
    "    def _make_array(self, capacity):\n",
    "        # creates a C-type array with given capacity\n",
    "        return (capacity * ctypes.py_object)()\n"
   ]
  },
  {
   "cell_type": "code",
   "execution_count": 41,
   "id": "106fe39d-54bf-4cb4-8ac4-92c0bfcafc56",
   "metadata": {},
   "outputs": [],
   "source": [
    "L=mlist()"
   ]
  },
  {
   "cell_type": "code",
   "execution_count": 42,
   "id": "57b66130-4bb6-48dd-9973-54515a209f2e",
   "metadata": {},
   "outputs": [
    {
     "data": {
      "text/plain": [
       "0"
      ]
     },
     "execution_count": 42,
     "metadata": {},
     "output_type": "execute_result"
    }
   ],
   "source": [
    "len(L)"
   ]
  },
  {
   "cell_type": "code",
   "execution_count": 46,
   "id": "6a2dc420-d70e-40b4-aa42-b600d36044e5",
   "metadata": {},
   "outputs": [],
   "source": [
    "L.append('Hello')\n",
    "L.append(3.4)\n",
    "L.append(True)\n",
    "L.append(100)"
   ]
  },
  {
   "cell_type": "code",
   "execution_count": 47,
   "id": "d0d5948b-8658-4725-843a-5e478e97df93",
   "metadata": {},
   "outputs": [
    {
     "data": {
      "text/plain": [
       "5"
      ]
     },
     "execution_count": 47,
     "metadata": {},
     "output_type": "execute_result"
    }
   ],
   "source": [
    "len(L)"
   ]
  },
  {
   "cell_type": "code",
   "execution_count": 45,
   "id": "61a2ad93-da62-44ad-be6f-be334063442d",
   "metadata": {},
   "outputs": [
    {
     "name": "stdout",
     "output_type": "stream",
     "text": [
      "<__main__.mlist object at 0x000001634DF4C890>\n"
     ]
    }
   ],
   "source": []
  },
  {
   "cell_type": "code",
   "execution_count": 11,
   "id": "b0fc8ac2-07bb-4250-b879-1513f8ccb461",
   "metadata": {},
   "outputs": [
    {
     "data": {
      "text/plain": [
       "88"
      ]
     },
     "execution_count": 11,
     "metadata": {},
     "output_type": "execute_result"
    }
   ],
   "source": []
  },
  {
   "cell_type": "code",
   "execution_count": null,
   "id": "4c303db2-8f29-42bf-a778-1dcedb2b99b7",
   "metadata": {},
   "outputs": [],
   "source": []
  }
 ],
 "metadata": {
  "kernelspec": {
   "display_name": "Python 3 (ipykernel)",
   "language": "python",
   "name": "python3"
  },
  "language_info": {
   "codemirror_mode": {
    "name": "ipython",
    "version": 3
   },
   "file_extension": ".py",
   "mimetype": "text/x-python",
   "name": "python",
   "nbconvert_exporter": "python",
   "pygments_lexer": "ipython3",
   "version": "3.12.7"
  }
 },
 "nbformat": 4,
 "nbformat_minor": 5
}
