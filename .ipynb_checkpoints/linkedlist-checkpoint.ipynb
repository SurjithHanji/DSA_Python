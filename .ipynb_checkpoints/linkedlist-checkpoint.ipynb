{
 "cells": [
  {
   "cell_type": "code",
   "execution_count": 1,
   "id": "b62a97e6-adde-400b-a396-fd116ab789b0",
   "metadata": {},
   "outputs": [],
   "source": [
    "class Node:\n",
    "    def __init__(self,value):\n",
    "        self.data=value\n",
    "        self.next=None\n",
    "    "
   ]
  },
  {
   "cell_type": "markdown",
   "id": "e7ee0f62-19ee-42ef-9c4b-c03fcb5bdda2",
   "metadata": {},
   "source": [
    "**creating LinkedList**"
   ]
  },
  {
   "cell_type": "code",
   "execution_count": 4,
   "id": "307abb51-0f92-424d-94ff-cc1c15b871fc",
   "metadata": {},
   "outputs": [],
   "source": [
    "a=Node(1)"
   ]
  },
  {
   "cell_type": "code",
   "execution_count": 5,
   "id": "038e0769-d8e3-4706-bbe6-b9d775b9cd8e",
   "metadata": {},
   "outputs": [
    {
     "name": "stdout",
     "output_type": "stream",
     "text": [
      "<__main__.Node object at 0x000001A85274ABA0>\n"
     ]
    }
   ],
   "source": [
    "print(a)"
   ]
  },
  {
   "cell_type": "code",
   "execution_count": 6,
   "id": "d9db3d81-a9ee-4fd8-9998-d44ffba62c04",
   "metadata": {},
   "outputs": [
    {
     "name": "stdout",
     "output_type": "stream",
     "text": [
      "1\n"
     ]
    }
   ],
   "source": [
    "print(a.data)"
   ]
  },
  {
   "cell_type": "code",
   "execution_count": 7,
   "id": "39a6cce4-3575-4326-99d5-eacfde9d341c",
   "metadata": {},
   "outputs": [
    {
     "name": "stdout",
     "output_type": "stream",
     "text": [
      "None\n"
     ]
    }
   ],
   "source": [
    "print(a.next)"
   ]
  },
  {
   "cell_type": "code",
   "execution_count": 8,
   "id": "e946f23a-8422-480e-9d47-b1208f6e1cf8",
   "metadata": {},
   "outputs": [],
   "source": [
    "b=Node(2)\n",
    "c=Node(3)"
   ]
  },
  {
   "cell_type": "code",
   "execution_count": 9,
   "id": "f4542a46-9c49-4492-8a53-ac0ed3981b65",
   "metadata": {},
   "outputs": [
    {
     "name": "stdout",
     "output_type": "stream",
     "text": [
      "2\n",
      "3\n"
     ]
    }
   ],
   "source": [
    "print(b.data)\n",
    "print(c.data)"
   ]
  },
  {
   "cell_type": "markdown",
   "id": "47215404-9951-4000-be33-a01fdc574b75",
   "metadata": {},
   "source": [
    "**#To build connection**"
   ]
  },
  {
   "cell_type": "code",
   "execution_count": 10,
   "id": "2733b4cc-7425-4c60-aa83-bb2e5f29e308",
   "metadata": {},
   "outputs": [
    {
     "data": {
      "text/plain": [
       "1822449511328"
      ]
     },
     "execution_count": 10,
     "metadata": {},
     "output_type": "execute_result"
    }
   ],
   "source": [
    "id(a)"
   ]
  },
  {
   "cell_type": "code",
   "execution_count": 11,
   "id": "bbd5284d-43c9-4432-a94a-a96802be8f82",
   "metadata": {},
   "outputs": [
    {
     "data": {
      "text/plain": [
       "1822449515600"
      ]
     },
     "execution_count": 11,
     "metadata": {},
     "output_type": "execute_result"
    }
   ],
   "source": [
    "id(b)\n"
   ]
  },
  {
   "cell_type": "code",
   "execution_count": 12,
   "id": "4a1879ab-daaa-4ffe-8df7-695680e817ad",
   "metadata": {},
   "outputs": [
    {
     "data": {
      "text/plain": [
       "1822449514016"
      ]
     },
     "execution_count": 12,
     "metadata": {},
     "output_type": "execute_result"
    }
   ],
   "source": [
    "id(c)"
   ]
  },
  {
   "cell_type": "code",
   "execution_count": 13,
   "id": "dcf02ef9-2e23-4f11-975f-2c3792676e1e",
   "metadata": {},
   "outputs": [],
   "source": [
    "a.next=b\n",
    "b.next=c"
   ]
  },
  {
   "cell_type": "code",
   "execution_count": 14,
   "id": "56625b66-4c75-443b-805e-f23dd7d9a886",
   "metadata": {},
   "outputs": [
    {
     "name": "stdout",
     "output_type": "stream",
     "text": [
      "<__main__.Node object at 0x000001A85274BC50>\n"
     ]
    }
   ],
   "source": [
    "print(a.next)"
   ]
  },
  {
   "cell_type": "code",
   "execution_count": 15,
   "id": "026b598d-ff8d-4644-87bd-20859bf4ebf1",
   "metadata": {},
   "outputs": [
    {
     "name": "stdout",
     "output_type": "stream",
     "text": [
      "<__main__.Node object at 0x000001A85274B620>\n"
     ]
    }
   ],
   "source": [
    "print(b.next)"
   ]
  },
  {
   "cell_type": "code",
   "execution_count": 16,
   "id": "913d93ac-d742-4512-baf1-2df6184f7cd6",
   "metadata": {},
   "outputs": [
    {
     "name": "stdout",
     "output_type": "stream",
     "text": [
      "None\n"
     ]
    }
   ],
   "source": [
    "print(c.next)"
   ]
  },
  {
   "cell_type": "code",
   "execution_count": 197,
   "id": "f6e8c7ff-0630-4fd8-b55a-9ff7a6236e6d",
   "metadata": {},
   "outputs": [],
   "source": [
    "class linkedlist:\n",
    "    def __init__(self):\n",
    "        #empty linked list\n",
    "        self.head=None\n",
    "        self.n=0  #count of nodes\n",
    "        \n",
    "    def __len__(self):\n",
    "        return self.n\n",
    "\n",
    "    # Insert From Head\n",
    "    def insert_head(self,value):\n",
    "        new_node=Node(value)\n",
    "\n",
    "        #create connection\n",
    "        new_node.next=self.head\n",
    "        self.head=new_node\n",
    "\n",
    "        #increment\n",
    "        self.n=self.n+1 \n",
    "\n",
    "    def __str__(self):\n",
    "        curr=self.head\n",
    "        result=''\n",
    "        while curr != None:\n",
    "            result=result+str(curr.data)+'->'\n",
    "            curr=curr.next\n",
    "\n",
    "        return result[:-2]\n",
    "\n",
    "    def append(self,value):\n",
    "        new_node=Node(value)\n",
    "        \n",
    "        if self.head==None:\n",
    "            self.head=new_node\n",
    "            self.n=self.n+1\n",
    "            return \n",
    "        \n",
    "\n",
    "        curr=self.head\n",
    "\n",
    "        while curr.next!= None:\n",
    "            curr=curr.next\n",
    "        curr.next=new_node\n",
    "        self.n=self.n+1\n",
    "\n",
    "    def insert_after(self,after,value):\n",
    "        new_node=Node(value)\n",
    "\n",
    "        curr=self.head\n",
    "        while curr != None:\n",
    "            if curr.data==after:\n",
    "                break\n",
    "            curr=curr.next\n",
    "            \n",
    "        if curr!=None:\n",
    "            new_node.next=curr.next\n",
    "            curr.next=new_node\n",
    "            self.n=self.n+1\n",
    "        else:\n",
    "            return \"Item Not Found\"\n",
    "\n",
    "    def clear(self):\n",
    "        self.head=None\n",
    "        self.n=0\n",
    "\n",
    "    def del_head(self):\n",
    "        if self.head==None:\n",
    "            return \"empyth linked list\"\n",
    "        self.head=self.head.next\n",
    "        self.n=self.n-1\n",
    "\n",
    "\n",
    "    def pop(self):\n",
    "        if self.head==None:\n",
    "            return 'empty linked list'\n",
    "        curr=self.head\n",
    "\n",
    "        if curr.next==None:\n",
    "            return self.del_head()\n",
    "            \n",
    "        while curr.next.next is not None:\n",
    "            curr=curr.next\n",
    "\n",
    "        curr.next=None\n",
    "        self.n=self.n-1\n",
    "\n",
    "    def remove(self,value):\n",
    "        if self.head==None:\n",
    "            return 'empty linked list'\n",
    "        if self.head.data==value:\n",
    "            return self.del_head()\n",
    "        curr=self.head\n",
    "\n",
    "        while curr.next != None:\n",
    "            if curr.next.data==value:\n",
    "                break\n",
    "            curr=curr.next\n",
    "        if curr.next == None:\n",
    "            return 'not found'\n",
    "        else:\n",
    "            curr.next=curr.next.next\n",
    "\n",
    "    def search(self,item):\n",
    "        if self.head==None:\n",
    "            return \"empty linked list\"\n",
    "        pos=0\n",
    "        while self.head != None:\n",
    "            if self.head.data==item:\n",
    "                return pos\n",
    "            self.head=self.head.next\n",
    "            pos=pos+1\n",
    "        return 'not found'\n",
    "\n",
    "    def __getitem__(self,index):\n",
    "        curr=self.head\n",
    "        pos=0\n",
    "\n",
    "        while curr!=None:\n",
    "            if pos==index:\n",
    "                return curr.data\n",
    "            curr=curr.next\n",
    "            pos+=1"
   ]
  },
  {
   "cell_type": "code",
   "execution_count": 198,
   "id": "f2691056-9166-4831-bebf-8760fd977f81",
   "metadata": {},
   "outputs": [],
   "source": [
    "L=linkedlist()"
   ]
  },
  {
   "cell_type": "code",
   "execution_count": 199,
   "id": "cec934fa-59fa-434c-b771-6d8e96043de4",
   "metadata": {},
   "outputs": [
    {
     "name": "stdout",
     "output_type": "stream",
     "text": [
      "\n"
     ]
    }
   ],
   "source": [
    "print(L)"
   ]
  },
  {
   "cell_type": "markdown",
   "id": "bb09e30c-3892-4090-badf-7d01b927d826",
   "metadata": {},
   "source": [
    "**Length Of linkedlist**"
   ]
  },
  {
   "cell_type": "code",
   "execution_count": 200,
   "id": "5f51600c-1bc8-48e2-9bbe-01abe8da45bb",
   "metadata": {},
   "outputs": [
    {
     "data": {
      "text/plain": [
       "0"
      ]
     },
     "execution_count": 200,
     "metadata": {},
     "output_type": "execute_result"
    }
   ],
   "source": [
    "len(L)"
   ]
  },
  {
   "cell_type": "markdown",
   "id": "17673705-6588-4160-b1dc-7daf08552591",
   "metadata": {},
   "source": [
    "**Insert**"
   ]
  },
  {
   "cell_type": "markdown",
   "id": "a93d7b07-8684-4fdc-adf7-ff443859ac4d",
   "metadata": {},
   "source": [
    "**# Insert From head**"
   ]
  },
  {
   "cell_type": "code",
   "execution_count": 201,
   "id": "f50ed20c-1b32-4868-976d-e480d97c8a63",
   "metadata": {},
   "outputs": [],
   "source": [
    "L.insert_head(1)\n",
    "L.insert_head(2)\n",
    "L.insert_head(3)"
   ]
  },
  {
   "cell_type": "code",
   "execution_count": 202,
   "id": "84fdfb6a-eef5-4b0a-85ff-79394a87116b",
   "metadata": {},
   "outputs": [
    {
     "data": {
      "text/plain": [
       "3"
      ]
     },
     "execution_count": 202,
     "metadata": {},
     "output_type": "execute_result"
    }
   ],
   "source": [
    "len(L)"
   ]
  },
  {
   "cell_type": "code",
   "execution_count": 203,
   "id": "2424c301-07ab-4f7b-a58d-a585a58e4f5a",
   "metadata": {},
   "outputs": [
    {
     "name": "stdout",
     "output_type": "stream",
     "text": [
      "3->2->1\n"
     ]
    }
   ],
   "source": [
    "print(L)"
   ]
  },
  {
   "cell_type": "markdown",
   "id": "232c0934-0720-4e04-9f6d-30064b679294",
   "metadata": {},
   "source": [
    "**# Insert from tail**"
   ]
  },
  {
   "cell_type": "code",
   "execution_count": 204,
   "id": "fc5fefb3-a547-4c29-a6f5-94e779454d62",
   "metadata": {},
   "outputs": [],
   "source": [
    "L.append(5)"
   ]
  },
  {
   "cell_type": "code",
   "execution_count": 205,
   "id": "c9fb24fb-0232-4bf6-bff4-1dc11d8ab1a4",
   "metadata": {},
   "outputs": [
    {
     "name": "stdout",
     "output_type": "stream",
     "text": [
      "3->2->1->5\n"
     ]
    }
   ],
   "source": [
    "print(L)"
   ]
  },
  {
   "cell_type": "markdown",
   "id": "57ff780b-391f-44fd-a494-702260233835",
   "metadata": {},
   "source": [
    "**# Insert by value**"
   ]
  },
  {
   "cell_type": "code",
   "execution_count": 194,
   "id": "f94f4f68-935a-4e28-be27-c7d003e1b997",
   "metadata": {},
   "outputs": [],
   "source": [
    "L.insert_after(1,200)"
   ]
  },
  {
   "cell_type": "code",
   "execution_count": 180,
   "id": "0c6b6877-302b-47f7-a278-a11fb56a2e65",
   "metadata": {},
   "outputs": [],
   "source": [
    "L.insert_after(1,200)"
   ]
  },
  {
   "cell_type": "code",
   "execution_count": 181,
   "id": "299e124e-3f2c-4be4-bb25-e846edd06c48",
   "metadata": {},
   "outputs": [
    {
     "name": "stdout",
     "output_type": "stream",
     "text": [
      "3->2->1->200->200->5\n"
     ]
    }
   ],
   "source": [
    "print(L)"
   ]
  },
  {
   "cell_type": "code",
   "execution_count": 182,
   "id": "432bc6dd-438b-4d67-8b42-42213c03c752",
   "metadata": {},
   "outputs": [],
   "source": [
    "L.insert_after(1,500)"
   ]
  },
  {
   "cell_type": "code",
   "execution_count": 164,
   "id": "13dff215-13b1-4f48-95af-cf87c47ee684",
   "metadata": {},
   "outputs": [
    {
     "name": "stdout",
     "output_type": "stream",
     "text": [
      "3->2->1->500->200->200->5\n"
     ]
    }
   ],
   "source": [
    "print(L)"
   ]
  },
  {
   "cell_type": "markdown",
   "id": "eba96a27-9081-4426-9fdc-7d77e6479496",
   "metadata": {},
   "source": [
    "**#Deleteion**"
   ]
  },
  {
   "cell_type": "markdown",
   "id": "15915f79-8380-4b5b-ba01-b5b725139342",
   "metadata": {},
   "source": [
    "**Empty Of linked list**"
   ]
  },
  {
   "cell_type": "code",
   "execution_count": 148,
   "id": "9df885f3-e23a-4925-92e8-9de7f411d47a",
   "metadata": {},
   "outputs": [],
   "source": [
    "L.clear()"
   ]
  },
  {
   "cell_type": "code",
   "execution_count": 149,
   "id": "744763d3-1cf7-4ec0-991a-0ee257662130",
   "metadata": {},
   "outputs": [
    {
     "name": "stdout",
     "output_type": "stream",
     "text": [
      "\n"
     ]
    }
   ],
   "source": [
    "print(L)"
   ]
  },
  {
   "cell_type": "markdown",
   "id": "fccb409f-316d-4cd0-a69a-e53faf2efbbd",
   "metadata": {},
   "source": [
    "**Delete From head**"
   ]
  },
  {
   "cell_type": "code",
   "execution_count": 150,
   "id": "0641a8df-1ef3-4e57-b3a3-94a0b1cf3564",
   "metadata": {},
   "outputs": [
    {
     "data": {
      "text/plain": [
       "'empyth linked list'"
      ]
     },
     "execution_count": 150,
     "metadata": {},
     "output_type": "execute_result"
    }
   ],
   "source": [
    "L.del_head()"
   ]
  },
  {
   "cell_type": "code",
   "execution_count": 151,
   "id": "d36171b2-d736-48fa-ba85-1f129aec4607",
   "metadata": {},
   "outputs": [
    {
     "name": "stdout",
     "output_type": "stream",
     "text": [
      "\n"
     ]
    }
   ],
   "source": [
    "print(L)"
   ]
  },
  {
   "cell_type": "markdown",
   "id": "6497b947-3f83-45c6-bdad-75c1c6d9acca",
   "metadata": {},
   "source": [
    "**#Delete from tail**"
   ]
  },
  {
   "cell_type": "code",
   "execution_count": 165,
   "id": "0919f6d4-ad7e-48a6-9dab-faf55c92514c",
   "metadata": {},
   "outputs": [],
   "source": [
    "L.pop()"
   ]
  },
  {
   "cell_type": "code",
   "execution_count": 166,
   "id": "bf953a3c-2a76-4f47-bf71-27d3c69366a3",
   "metadata": {},
   "outputs": [
    {
     "name": "stdout",
     "output_type": "stream",
     "text": [
      "3->2->1->500->200->200\n"
     ]
    }
   ],
   "source": [
    "print(L)"
   ]
  },
  {
   "cell_type": "markdown",
   "id": "23ed715e-7ca5-41f9-bb56-548a2691f374",
   "metadata": {},
   "source": [
    "**Delete from val**"
   ]
  },
  {
   "cell_type": "code",
   "execution_count": 183,
   "id": "d29f7737-0c95-46a5-8bfb-32763eb5ade9",
   "metadata": {},
   "outputs": [],
   "source": [
    "L.remove(200)"
   ]
  },
  {
   "cell_type": "code",
   "execution_count": 184,
   "id": "18924e6c-2465-417d-8bd4-94d326b7ba40",
   "metadata": {},
   "outputs": [
    {
     "name": "stdout",
     "output_type": "stream",
     "text": [
      "3->2->1->500->200->5\n"
     ]
    }
   ],
   "source": [
    "print(L)"
   ]
  },
  {
   "cell_type": "markdown",
   "id": "0795cc6e-b2f2-4398-8a99-b61fd65f20de",
   "metadata": {},
   "source": [
    "**Search for an item**"
   ]
  },
  {
   "cell_type": "code",
   "execution_count": 195,
   "id": "32fc96cd-cf8a-4ef1-b8b8-15551b02f8af",
   "metadata": {},
   "outputs": [
    {
     "data": {
      "text/plain": [
       "0"
      ]
     },
     "execution_count": 195,
     "metadata": {},
     "output_type": "execute_result"
    }
   ],
   "source": [
    "L.search(3)"
   ]
  },
  {
   "cell_type": "code",
   "execution_count": 196,
   "id": "c22be6c0-63ae-4474-a51c-644a87c18bf4",
   "metadata": {},
   "outputs": [
    {
     "data": {
      "text/plain": [
       "'not found'"
      ]
     },
     "execution_count": 196,
     "metadata": {},
     "output_type": "execute_result"
    }
   ],
   "source": [
    "L.search(22)"
   ]
  },
  {
   "cell_type": "markdown",
   "id": "89ed8dec-909d-4c13-9be7-5436330da58b",
   "metadata": {},
   "source": [
    "**Indexing**"
   ]
  },
  {
   "cell_type": "code",
   "execution_count": 206,
   "id": "92b2164d-33c3-446b-99e6-15e9fb420efa",
   "metadata": {},
   "outputs": [
    {
     "data": {
      "text/plain": [
       "3"
      ]
     },
     "execution_count": 206,
     "metadata": {},
     "output_type": "execute_result"
    }
   ],
   "source": [
    "L[0]"
   ]
  },
  {
   "cell_type": "code",
   "execution_count": 208,
   "id": "6ad24777-5442-48d7-aef5-1332d8598bb1",
   "metadata": {},
   "outputs": [
    {
     "data": {
      "text/plain": [
       "5"
      ]
     },
     "execution_count": 208,
     "metadata": {},
     "output_type": "execute_result"
    }
   ],
   "source": [
    "L[3]"
   ]
  },
  {
   "cell_type": "code",
   "execution_count": null,
   "id": "61bdfdf6-31bb-4b50-904b-8055cc0f55b7",
   "metadata": {},
   "outputs": [],
   "source": []
  }
 ],
 "metadata": {
  "kernelspec": {
   "display_name": "Python 3 (ipykernel)",
   "language": "python",
   "name": "python3"
  },
  "language_info": {
   "codemirror_mode": {
    "name": "ipython",
    "version": 3
   },
   "file_extension": ".py",
   "mimetype": "text/x-python",
   "name": "python",
   "nbconvert_exporter": "python",
   "pygments_lexer": "ipython3",
   "version": "3.12.7"
  }
 },
 "nbformat": 4,
 "nbformat_minor": 5
}
